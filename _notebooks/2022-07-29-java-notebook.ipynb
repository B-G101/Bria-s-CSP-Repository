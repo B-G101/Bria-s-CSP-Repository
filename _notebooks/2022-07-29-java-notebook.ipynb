{
 "cells": [
  {
   "cell_type": "markdown",
   "metadata": {},
   "source": [
    "# \"Java Notebook\"\n",
    "> \"Please work!!!\"\n",
    "\n",
    "- toc: true\n",
    "- branch: master\n",
    "- badges: true\n",
    "- comments: true\n",
    "- author: Hamel Husain & Jeremy Howard\n",
    "- categories: [fastpages, jupyter]\n"
   ]
  },
  {
   "cell_type": "markdown",
   "metadata": {},
   "source": [
    "## Welcome to my notebook\n",
    "Below there is some java"
   ]
  },
  {
   "cell_type": "code",
   "execution_count": 2,
   "metadata": {
    "vscode": {
     "languageId": "java"
    }
   },
   "outputs": [
    {
     "name": "stdout",
     "output_type": "stream",
     "text": [
      "Hello World!\n"
     ]
    }
   ],
   "source": [
    "// Define Static Method within a Class\n",
    "public class HelloStatic {\n",
    "    // Java standard runtime entry point\n",
    "    public static void main(String[] args) {    \n",
    "        System.out.println(\"Hello World!\");\n",
    "    }\n",
    "}\n",
    "// A method call allows us to execute code that is wrapped in Class\n",
    "HelloStatic.main(null);   // Class prefix allows reference of Static Method"
   ]
  }
 ],
 "metadata": {
  "kernelspec": {
   "display_name": "Java",
   "language": "java",
   "name": "java"
  },
  "language_info": {
   "codemirror_mode": "java",
   "file_extension": ".jshell",
   "mimetype": "text/x-java-source",
   "name": "Java",
   "pygments_lexer": "java",
   "version": "18.0.1.1+2-6"
  },
  "orig_nbformat": 4
 },
 "nbformat": 4,
 "nbformat_minor": 2
}
