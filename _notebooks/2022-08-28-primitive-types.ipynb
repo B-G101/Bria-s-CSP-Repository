{
 "cells": [
  {
   "cell_type": "markdown",
   "metadata": {},
   "source": [
    "# Unit 1: Primitive Types\n",
    "> \"Key ideas: Why Programing? Why Java?  Variables and Data Types  Expressions and Assignment Statements  Compound Assignment Operators  Casting and Ranges of Variables\"\n",
    "\n",
    "- toc: true \n",
    "- badges: true\n",
    "- comments: true\n",
    "- categories: [jupyter]\n",
    "- image: images/chart-preview.png"
   ]
  },
  {
   "cell_type": "code",
   "execution_count": null,
   "metadata": {},
   "outputs": [],
   "source": [
    "public class Primitives {\n",
    "  public static void main(String[] args) {\n",
    "    int x = 5;\n",
    "    double z = 9.88;\n",
    "    boolean w = true;\n",
    "    System.out.println(x);\n",
    "    System.out.println(z);\n",
    "    System.out.println(w);\n",
    "    }\n",
    "}\n",
    "Primitives.main(null);"
   ]
  },
  {
   "cell_type": "code",
   "execution_count": null,
   "metadata": {},
   "outputs": [],
   "source": [
    "public class Wrappers {\n",
    "    public static void main(String[] arg){\n",
    "        String y = \"Hello\";\n",
    "        System.out.println(y);\n",
    "        String z = new String(\"Hello World\");\n",
    "        System.out.println(z);\n",
    "    }\n",
    "\n",
    "}\n",
    "Wrappers.main(null);"
   ]
  }
 ],
 "metadata": {
  "kernelspec": {
   "display_name": "Java",
   "language": "java",
   "name": "java"
  },
  "language_info": {
   "name": "java"
  },
  "orig_nbformat": 4
 },
 "nbformat": 4,
 "nbformat_minor": 2
}
